{
  "nbformat": 4,
  "nbformat_minor": 0,
  "metadata": {
    "colab": {
      "name": "campoGrande-matoGrossodoSul.ipynb",
      "provenance": [],
      "include_colab_link": true
    },
    "kernelspec": {
      "name": "python3",
      "display_name": "Python 3"
    }
  },
  "cells": [
    {
      "cell_type": "markdown",
      "metadata": {
        "id": "view-in-github",
        "colab_type": "text"
      },
      "source": [
        "<a href=\"https://colab.research.google.com/github/nicolaslopesb/minicursoUFMS/blob/master/campoGrande_matoGrossodoSul.ipynb\" target=\"_parent\"><img src=\"https://colab.research.google.com/assets/colab-badge.svg\" alt=\"Open In Colab\"/></a>"
      ]
    },
    {
      "cell_type": "markdown",
      "metadata": {
        "id": "hnYj11nj5uAo",
        "colab_type": "text"
      },
      "source": [
        "\n",
        "\n",
        "## > **AULA 1 - EVOLUÇÃO COVID EM CAMPO GRANDE E MATO GROSSO DO SUL**\n"
      ]
    },
    {
      "cell_type": "markdown",
      "metadata": {
        "id": "RYWe-z1o5lMz",
        "colab_type": "text"
      },
      "source": [
        ""
      ]
    },
    {
      "cell_type": "markdown",
      "metadata": {
        "id": "Gh8IZF9tqrvp",
        "colab_type": "text"
      },
      "source": [
        "# O Google Colab \n",
        "\n",
        "\n",
        "*   'o docs do código'\n",
        "*   permite compartilhar com os amigos os códigos em jupyter notebook\n",
        "*  deixar os códigos na nuvem\n",
        "*  e utilizar os processadores com GPU e TPU do Google"
      ]
    },
    {
      "cell_type": "markdown",
      "metadata": {
        "id": "sMFKcNOyrgiV",
        "colab_type": "text"
      },
      "source": [
        "# O pandas\n",
        "\n",
        "* Ferramenta de manipulação de dados \n",
        "**  leitura e análise básica dos dados\n",
        "- Documentação: https://pandas.pydata.org/docs/\n",
        "- Cheat-sheet: https://studylib.net/doc/25268801/pandas-cheat-sheet\n",
        "\n"
      ]
    },
    {
      "cell_type": "code",
      "metadata": {
        "id": "Jg2JKQSQrAVk",
        "colab_type": "code",
        "colab": {}
      },
      "source": [
        "import pandas as pd"
      ],
      "execution_count": 23,
      "outputs": []
    },
    {
      "cell_type": "markdown",
      "metadata": {
        "id": "J7MzhexdsKbh",
        "colab_type": "text"
      },
      "source": [
        "# Criação de um dataframe, o tipo principal do pandas"
      ]
    },
    {
      "cell_type": "code",
      "metadata": {
        "id": "uhr3niXPsR51",
        "colab_type": "code",
        "colab": {
          "base_uri": "https://localhost:8080/",
          "height": 187
        },
        "outputId": "dd34470a-547e-4ec0-ea8c-3285fd2f3e57"
      },
      "source": [
        "#por meio de dicionario\n",
        "from datetime import datetime\n",
        "cgDict = {'date': [datetime(2020,4,1), datetime(2020,4,2), datetime(2020,4,3), datetime(2020,4,4)],\n",
        "          'confirmed': [1,2,5,10], 'deaths': [2, 3, 4, 5]}\n",
        "\n",
        "\n",
        "#mostrar dados dicionário\n",
        "cgDict\n",
        "\n",
        "#criar o dataframe\n",
        "\n",
        "cgData = pd.DataFrame(cgDict)\n",
        "\n",
        "#mostrar o cabeçalho\n",
        "\n",
        "print(cgData.head())\n",
        "\n",
        "#msotrar o final\n",
        "\n",
        "print(cgData.tail())\n"
      ],
      "execution_count": 8,
      "outputs": [
        {
          "output_type": "stream",
          "text": [
            "        date  confirmed  deaths\n",
            "0 2020-04-01          1       2\n",
            "1 2020-04-02          2       3\n",
            "2 2020-04-03          5       4\n",
            "3 2020-04-04         10       5\n",
            "        date  confirmed  deaths\n",
            "0 2020-04-01          1       2\n",
            "1 2020-04-02          2       3\n",
            "2 2020-04-03          5       4\n",
            "3 2020-04-04         10       5\n"
          ],
          "name": "stdout"
        }
      ]
    },
    {
      "cell_type": "markdown",
      "metadata": {
        "id": "olKoB9Qvs9L9",
        "colab_type": "text"
      },
      "source": [
        "# Acesso aos dados"
      ]
    },
    {
      "cell_type": "code",
      "metadata": {
        "id": "i4tpbYLctBiC",
        "colab_type": "code",
        "colab": {
          "base_uri": "https://localhost:8080/",
          "height": 221
        },
        "outputId": "c3bd0ab9-818a-41e9-f89b-9a3cc7b95a93"
      },
      "source": [
        "#acesso a primeira linha]\n",
        "\n",
        "linha0 = cgData.iloc[0]\n",
        "print(linha0)\n",
        "\n",
        "print()\n",
        "#acesso ao campo data da primeira linha\n",
        "\n",
        "linha0['deaths']\n",
        "\n",
        "print()\n",
        "#acesso padrão coluna - exemplo coluna data\n",
        "\n",
        "print(cgData['date'])\n",
        "\n",
        "cgData['date'].index\n"
      ],
      "execution_count": 17,
      "outputs": [
        {
          "output_type": "stream",
          "text": [
            "date         2020-04-01 00:00:00\n",
            "confirmed                      1\n",
            "deaths                         2\n",
            "Name: 0, dtype: object\n",
            "\n",
            "\n",
            "0   2020-04-01\n",
            "1   2020-04-02\n",
            "2   2020-04-03\n",
            "3   2020-04-04\n",
            "Name: date, dtype: datetime64[ns]\n"
          ],
          "name": "stdout"
        },
        {
          "output_type": "execute_result",
          "data": {
            "text/plain": [
              "RangeIndex(start=0, stop=4, step=1)"
            ]
          },
          "metadata": {
            "tags": []
          },
          "execution_count": 17
        }
      ]
    },
    {
      "cell_type": "markdown",
      "metadata": {
        "id": "2IULjffktS1N",
        "colab_type": "text"
      },
      "source": [
        "# Em muitos casos os dados estão disponíbilizados em arquivos\n",
        "\n",
        "O pandas possui uma função para ler arquivos csv:\n",
        "* read_csv\n",
        "\n",
        "Funcao para ler arquivos xls \n",
        "* read_excel \n",
        "\n"
      ]
    },
    {
      "cell_type": "markdown",
      "metadata": {
        "id": "wBnpT0xBt-Pi",
        "colab_type": "text"
      },
      "source": [
        "Para criação de porfólio\n",
        "\n",
        "Onde encontrar dados:\n",
        "* kaggle: https://www.kaggle.com/\n",
        "\n",
        "Onde colocar os códigos:\n",
        "* github: https://github.com/\n",
        "\n",
        "Dados covid Brasil: \n",
        "* https://brasil.io/home/\n",
        "\n",
        "Dados da aula de hoje:\n",
        "* https://github.com/marianeneiva \n",
        "\n"
      ]
    },
    {
      "cell_type": "code",
      "metadata": {
        "id": "qFKdWEeNuhwN",
        "colab_type": "code",
        "colab": {
          "base_uri": "https://localhost:8080/",
          "height": 731
        },
        "outputId": "de71f48a-670c-461d-867c-eeb6951bddaa"
      },
      "source": [
        "#ler dados github ms e cg\n",
        "\n",
        "cg = pd.read_csv('https://raw.githubusercontent.com/marianeneiva/minicursoUFMS/master/cg.csv')\n",
        "ms = pd.read_csv('https://raw.githubusercontent.com/marianeneiva/minicursoUFMS/master/ms.csv')\n",
        "\n",
        "crb = pd.read_csv('/content/covid19-ca062e119d204a6abae6eddaa2de397f.csv')\n",
        "#mostrar dados \n",
        "\n",
        "print(cg)\n",
        "print(ms)\n",
        "print(crb)\n",
        "\n"
      ],
      "execution_count": 98,
      "outputs": [
        {
          "output_type": "stream",
          "text": [
            "           date  confirmed  deaths\n",
            "0    2020-03-14          2       0\n",
            "1    2020-03-15          2       0\n",
            "2    2020-03-16          4       0\n",
            "3    2020-03-17          6       0\n",
            "4    2020-03-18          7       0\n",
            "..          ...        ...     ...\n",
            "151  2020-09-01      22053     372\n",
            "152  2020-09-03      22688     385\n",
            "153  2020-09-04      23030     390\n",
            "154  2020-09-05      22980     396\n",
            "155  2020-09-07      23457     405\n",
            "\n",
            "[156 rows x 3 columns]\n",
            "           date  confirmed  deaths\n",
            "0    2020-03-14          2       0\n",
            "1    2020-03-15          2       0\n",
            "2    2020-03-16          4       0\n",
            "3    2020-03-17          6       0\n",
            "4    2020-03-18          7       0\n",
            "..          ...        ...     ...\n",
            "170  2020-09-04      53328     953\n",
            "171  2020-09-05      53491     966\n",
            "172  2020-09-06      54125     970\n",
            "173  2020-09-07      54363     987\n",
            "174  2020-09-08      55345    1007\n",
            "\n",
            "[175 rows x 3 columns]\n",
            "           date state  ... confirmed_per_100k_inhabitants death_rate\n",
            "0    2020-09-12    MS  ...                     2965.85453     0.0339\n",
            "1    2020-09-11    MS  ...                     2921.88271     0.0344\n",
            "2    2020-09-10    MS  ...                     2874.32135     0.0340\n",
            "3    2020-09-09    MS  ...                     2793.55678     0.0344\n",
            "4    2020-09-08    MS  ...                     2738.81635     0.0351\n",
            "..          ...   ...  ...                            ...        ...\n",
            "149  2020-04-11    MS  ...                        0.89738     0.0000\n",
            "150  2020-04-10    MS  ...                        0.89738     0.0000\n",
            "151  2020-04-09    MS  ...                        0.89738     0.0000\n",
            "152  2020-04-08    MS  ...                        0.89738     0.0000\n",
            "153  2020-04-07    MS  ...                        0.89738     0.0000\n",
            "\n",
            "[154 rows x 11 columns]\n"
          ],
          "name": "stdout"
        }
      ]
    },
    {
      "cell_type": "markdown",
      "metadata": {
        "id": "q__vCRo6vfAG",
        "colab_type": "text"
      },
      "source": [
        "# Algumas funções\n",
        "\n",
        "\n",
        "![images.jpg](data:image/jpeg;base64,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)"
      ]
    },
    {
      "cell_type": "code",
      "metadata": {
        "id": "Qbol_IFDvz8N",
        "colab_type": "code",
        "colab": {}
      },
      "source": [
        "#usar pandas \n",
        "#cgMelt"
      ],
      "execution_count": null,
      "outputs": []
    },
    {
      "cell_type": "markdown",
      "metadata": {
        "id": "yudyH-WtwOhE",
        "colab_type": "text"
      },
      "source": [
        "União de tabela com concatenação\n",
        "\n",
        "\n",
        "pd.concat([df1,df2])\n",
        "![merging_concat_basic.png](data:image/png;base64,iVBORw0KGgoAAAANSUhEUgAAAXIAAAF3CAYAAAC46cC6AAAABHNCSVQICAgIfAhkiAAAAAlwSFlzAAAPYQAAD2EBqD+naQAAADh0RVh0U29mdHdhcmUAbWF0cGxvdGxpYiB2ZXJzaW9uMy4yLjIsIGh0dHA6Ly9tYXRwbG90bGliLm9yZy+WH4yJAAAgAElEQVR4nOyde0CUZdr/PxzkLAkhHkLEPCR5wFMaQkhkUApmttaW+uaWoS/roYOoP8NXTc2U1dXY9dBW6gpLdjBNbdXKUECTFAE3BPOASB7RFAoZDsPvD3ZGwKHjPM8z41yfv2Kw+X5nGC6e57rv+/ra1dXV1SEIgiBYLfZaGxAEQRB+H1LIBUEQrBwp5IIgCFaOFHJBEAQrRwq5IAiClSOFXBAEwcqRQi4IgmDlSCEXBEGwcqSQC4IgWDlSyAVBEKwcKeSCIAhWjhRyQRAEK0cKuSAIgpUjhVwQBMHKkUIuCIJg5UghFwRBsHKkkAuCIFg5UsgFQRCsHCnkgiAIVo4UckEQBCtHCrnGpKWlMXToUHQ6HVFRUQQFBfHmm2+yfft2+vTpg6OjI8nJyVrbFG5D7Ozs6NOnD7169SI4OJj//Oc/ZtcICAigpKQEgBUrVlBWVmZ2DUEKucWQk5PDtWvXyM3NZerUqXTr1o3k5GSeeeYZra0JtykODg7k5ORw9OhRHnroIV555RVF9aSQK4cUcg1ITk6ma9eu3HfffWzbto26ujrGjBlDfn4+ffr0Yf/+/XTr1o2ePXtiby8/IkF5QkNDOXv2LAB6vZ5XX32VgQMH0qtXL2bPng1ARUUFjz/+OL1796Znz568+uqrAIwfP77RXWOXLl0oKipq9PyJiYmcO3eOqKgo+vTpQ1VVlTovzEZw1NqArXHhwgVmzJjB4cOHadu2LU8++SR2dna8/fbbLFy4kM8//1xri4IN8umnn/KHP/wBgPXr11NXV0dWVha1tbU89thj/Pvf/6ayshJvb28+/vhjAL7//vtf/Pzx8fH8/e9/Z9euXfj5+SnyGmwZudxTmYMHDxIaGkq7du2ws7Nj7NixWlsSbJTa2lr69OlD69at+eCDD5g0aRJQX9Q/+OAD+vTpQ//+/SksLOTbb7+ld+/epKWlER8fz65du/D09NT4FQgGpJCrTF1dndYWBAG42SMvLi7mkUceYcqUKUD9ZzQxMZGcnBxycnL49ttvmTp1Kp07dyY7O5uBAwfy9ttvM2LECAAcHR3R6/XG59XpdJq8HltGCrnK3H///WRkZHD+/Hnq6upkR4qgOa6urqxYsYK0tDSOHj3Ko48+yurVq6msrATg/PnzXLhwgZKSElq0aMHo0aNZuXIlWVlZAHTq1InDhw8D9Xec3333nUkdT09PysvL1XlRNoYUcpVp27YtS5cuZciQIYSFhdGtWzeT/+6LL77Az8+PDz74gKlTp+Ln50dFRYXKbgVb4Y477uCVV15h8eLFPP/88wQHBzNgwAB69erF448/zrVr1zh69CjBwcH06dOHRx99lKSkJABeeOEFvv76awYMGEBKSgoBAQEmNeLi4hg1ahQDBgyQxU4zY1cn9/qCIAhWjVyRC4IgWDlSyAVBEKwcKeSCIAhWjhRyQRAEK0cKuSAIgpUjhVwQBMHKkUIuCIJg5dxWQ7OKi4spLS3V1INOp8PZ2dmmPWitD+Dj44O/v7+mHgRBLW6bQl5cXEz37t25ceOGpj7s7e0bzZ2wRQ9a60P9sfOCggIp5oJNcNsU8tLSUm7cuMGUKVO46667NPFw5MgRNm3aZNMetNYH+O6770hKSqK0tFQKuWAT3DaF3MBdd93F3XffrYm2YViQLXvQWl8QbBFZ7BQEQbBybrsr8t/D2rVrKSkpYcGCBaprX7p0iZkzZ9KxY0eqq6vp1KkTEyZMUNXDmTNn2LhxI9XV1ej1egYNGkR0dLRq+g3fA51Oxx133MHYsWMlUUYQfgYp5P+lpqaG06dP4+3tzaVLl/D19VXdw913382cOXMAWLRoEUVFRc2OBDU3FRUVLF26lPj4eKNmbm6uKtoNafgeHDp0iMTERP7yl7/QokUL1b0IgrUgrZX/kp2dzYABAwgPDyc9PV1TL3q9Hp1Oh5ubm2qa2dnZ3HPPPY3+cAQFBammb4oBAwbg6enJyZMnNfUhCJaOFPL/kpGRwZAhQ+jXr58mV6IAp06dYt68ebz00kt4eHjg4+OjmnZpaamqer+UO++8k6tXr2ptQxAsGmmtUN9WKCws5K233gLgypUrnDp1SvVdFw3bCuvWrWP79u3GXESl8fHxITs7WxWtX8OVK1fw9vbW2oYgWDRSyIGvvvqKxx57jGHDhgGQn59Penq6ptvn3N3duXbtmmp6/fr1IzU1tVFfPi8vj969e6vmoSnZ2dmUlZXRuXNnzTwIgjUghRxIT0/nhRdeMH7drVs31q5dy7hx47C3V6/7ZGit6PV6HBwcmDx5smrabm5uxMfHk5yc3GjXitqF3PAe6HQ6PD09mT59uix0CsLPIIUcmDt3bqOvHR0dWblypaoefH19WbdunaqaTQkICCAhIUEzfUt4DwTBGpHFTkEQBCtHrsgFQWW0ntJpCdMpxUM95prSKYVcEFTEEqZ0WsJ0SvFQj7mmdEohFwQV0XpKpyVMpxQP9ZhzSqcUckHQAFueTikezI9ZC7mWvb9jx44B9X9pDT8ktSkoKLB5D1rrQ/3wLUGwJcxWyC2l97dp0ybN9MWDZegbPOh0Ok09CIJamK2QW0rvLzk5mcDAQNX1AT799FPmzJlj0x601of6u7OxY8dqviNBENTC7D1yrXt/gYGB9OvXT3V9uNnesWUPWuvf7tj6zHyQufmmkMVOQbASbH1mPsjc/OaQk52CYCXY+sx8kLn5zWF1hTwtLY2EhATmzJnDqVOnFNWKjY0lNDTU+PXOnTsJDg4mODiYXbt2KapdVFSEl5cX4eHhBAcHExcXB9R/kENDQxk8eDDr169X1APUT0CMjIwkLCyMkJAQli9frpqHhu/BwIEDiY6OJj8/H4DXX3+d0NBQIiIiKCoqUsyDJWHrM/NB5uY3h1W1Vn744Qf+/e9/s2jRIq5evUpSUpJivcKqqiqys7Px8/Pj9OnT+Pv7M3PmTPbt2wdAWFgYQ4cOxcHBQRF9gP79+/P5558DEBUVRW5uLlOnTiUlJYX27dtz//3389hjj+Hl5aWIfllZGSNGjGDLli306dMHgN27d6vqoeF7sG3bNkaOHMkHH3xAWloaGRkZZGRkMGvWLN577z1F9C0FmZlfj8zNN41VXZGfOHGCwMBAHB0d8fX1pbKykurqakW0duzYwYgRIxg/fjwpKSl8++23dOrUiTvuuIM77riDgIAA1W6lamtrqaiowMXFhR9++IGOHTvSokULQkND+frrrxXT3b59O6GhocYiDjBkyBBVPTQkJiYGX19ftm/fbpwdHxoaqtnVqZoYZua/+uqrvPrqq/z5z3/WvL2i9sx8qJ+bX1hY2OguLC8vT1UPTbGEuflWd0XesCfn5ubGDz/8oMjVYGpqKomJibRv355ly5YRERFBq1atjN9v1aoVV65cMbtuQw4fPkx4eDjnzp0jMDAQDw8PVT2cPXuWDh06NHrsypUrqr8PDfHz86O2traRh9raWtX0tUJm5tcjc/NNY1WF3MPDg4qKCuPXFRUVeHh4mF3n+vXrZGZmMnHiRKC+oNXV1TW6+rh+/brit1IN2wrTpk3j3Xff5fr166p56NChwy1XO97e3qp6aEpJSQm9evVq9LNQsr1lKcjM/JvI3PxbsarWSpcuXSgoKKCmpobS0lJcXFwU+Sv44YcfMnPmTHbu3MnOnTvZsGEDH374IadPn6asrIyysjJOnz5Nly5dzK7dHF5eXly/fh03NzeKi4uprq4mIyODgQMHKqYZHR1NZmYmOTk5xscyMjJU9dCQHTt2cPnyZaKjo/n3v/8NwP79+zXftSAIWmN1V+SRkZHMmzcPOzs7xo8fr4hOSkoKq1evNn49ePBgYmNjWb58OVFRUQAsXrxY8StBQ2ultrYWR0dHNm7cyB//+Eeefvpp6urqiIuLU2yREcDT05OtW7cSHx9PZWUler2eUaNGsXLlStU8GN6DiooKWrduzebNm+nRowehoaGEhITg5OTEO++8o5i+IFgDVlXIASIiIoiIiFBUY8+ePY2+btGiBYWFhQAMHz5cUW0DAQEBfP/997c87ufnR2ZmpioeoH6P7u7du295XA0Pzb0HAHPmzDHunhAEW8eqWiuCIAjCrUghFwRBsHKkkAuCIFg5UsgFQRCsHKtb7BSE34PWCfZaJ1lZQoKTeKjHnElWZi/kWn9AP/30U+Mvi9oYdnLYsget9QFOnz5t8nFLSLEC7ROUtNYXD409mCPJyq6urq7ODH44cOAAoaGh6PV6czzdb8Le3l5TffFgGfpQf9ozPT2d4OBg42PZ2dn079/fItLbbTnBSTzUY0iyOnz48O8OYTHbFbmzszN6vV6i3mz8A6q1Pvx81JslpLfbcoKTeDA/EvVmRizhw6G1B631BcEWkV0rgiAIVo4UckEQBCvHqgr5okWLeP755/noo49U0Wsa9fbcc8/Rrl07VZLDm4t6mzNnDh07dmTo0KGKewDTUW9qeWgu6q28vJzg4GBatWpFcnKyoh4EwRqwqkI+adIkxo0bp4qWIerNx8fHuJ1twYIFpKamqqIP9fPI09LSOHDgACdPniQ3N5e4uDi+/PJLVfQNUW9Lly5l3759ZGZm0rNnT1U9GN6DrKwsJk6cyMiRI3FycuLjjz/mxRdfVMXDr8VWcmXBMrJlJVfWygr5nXfeqZpW06g3QLMta4aoN09PT9q1a6daIoypqLfIyEhVPTTEEPV26NAh2rZtq7r+L8GQKztv3jymTJmiaABB04uN2traRnP0Z8yYoUp6kqkLDkOu6969e0lKSmp2iuXvpbmLDbX0wfTFRm5urjFX9rXXXmPWrFmK6YOVFXI1SU1N5dlnn2X48OGqXNmYwjCLOzAwEG9vb/z9/VXVNxX1pjV+fn6ancT7Jdhqrixoky0rubL1SCE3QcOot5iYGM6ePcvhw4dV92H4S3/8+HECAgJYvny5qvodOnSguLhYVc2fo6SkRLM7o19Cc7myStD0YuPq1aua5Kk2veBQM1tWcmXrkUJuAlNRb4b2ilZ4eXlx8eJFVTVNRb0ZMkS1wBD1NmDAAM08/Bxa5MoaLja0yJWFWy841MyWNXWxYQm5sg4ODqrmylrV0Kw1a9Zw/PhxqqurOXnyJDNmzFBEp7moN2dnZ3bv3s2FCxcYOnQoW7duxd3dXREPYDrq7W9/+xvvvfcex44dY+jQoaxdu5bOnTsrot9c1FtBQYFqHkxFvTk7OxMTE8M333yDm5sbGRkZrFmzRhH9X0uXLl147733qKmp4dq1a4rnyk6dOhWAvXv3NsqVBVTPlYVbs2XbtWtHRkbGLeHR5iI6OprZs2eTk5NjbK80zJVVWr8pDXNlZ8yYwYsvvqhKrqxVFfJJkyapovNTUW+LFy9WxUNzMWeTJ09m8uTJqniA5qPe1PDwU1Fv27ZtU1z/t2BrubKgbbas5MrWY1WFXBCsAVvJlQXLyJaVXFnpkQuCIFg9UsgFQRCsHCnkgiAIVo4UckEQBCtHot7MiCXEnGntQWt9aD7qTRBuV8xWyHU6neYZePb29qqtEosHy9WH+gMY5shCFARrQKLezIglxJxp7UFrffj5qDdLSG+35Tsm8VCPOe8cJerNjFhCzJnWHrTW/yks4a4RtL9j0VpfPNzEXHeOciBIsBm0vmsE7e8cLeGOSTzU83N3jr8GKeSCzaHVXSNof+doCXdM4sH8WFUhP3XqFOvWrcPe3h57e3smTZpEmzZtFNOLjY0lPz+fjIwMiouLGTduHHq9Hr1ez8qVKxWdwldUVETfvn0JCgpCp9PRt29fEhMTGTlyJDdu3KCmpoa5c+fy6KOPKuYB6tNXpk+fTmVlJbW1tQwbNoy0tDRVPDR8DyoqKvD19WXp0qWcOXOG+fPn4+zsjLu7Oxs3blQ1dEQQLA2rKuReXl7Mnj0bV1dXsrOzef/995kyZYoiWob0FT8/P06fPk2rVq346KOP8PHxIT8/n4kTJ5Kenq6ItoH+/fsbx8ZGRUVx4sQJ3nnnHfz9/SktLSUkJETRQm5IX9myZYtxstyuXbsYN26cah4avgfbtm1j5MiRfPbZZ+zbtw8nJydWrVrFihUrWLBggWIeBMHSsaoDQV5eXri6ugLg6OioaNxY0/QVLy8vfHx8AHByclJlqpyBhlFvhpQgFxcX7OzsFNU1lb4SFRWlqoeGGNJXSkpKcHJyAtT/WQiCJWJVhdxAZWUlqampik55ay7qrba2lri4OMUz+OCno96mTJnCyy+/rKj+z0W9qeGhKQ2j3i5cuMCbb75JbGysqh4EwdKwukJeU1PDihUrePzxxwkICFBE46ei3gyPPfLII4poN6S5qLcFCxZw5513Kl7AfirqTS0PTTFEvZWVlTF69Gj+8Y9/0L59e1U9/ByLFi3i+eef56OPPlJcKzY2ltDQUOPXzz33HO3atWPChAmKa0PjFPng4GDi4uKA+hGuHTt2ZOjQoYp7yMvLIzIykrCwMEJCQli+fLlq+g1f/8CBA4mOjiY/P5/y8nKCg4Np1aoVycnJinoAKyvker2epKQk7rvvPgYOHKiYTnNRb9OnT6ddu3aK9eV/CkPUW1JSEt9++y2JiYmKazYX9aamh4YY0ld69uzJyJEjmT17NoMGDVLVwy9h0qRJjBs3TnEdwzqOj4+P8XDJggULSE1NVVy7IYYLjgMHDnDy5Elyc3OJi4vjyy+/VFzbsI6zdOlS9u3bR2ZmJj179lRNH26+/qysLCZOnMjIkSNxcnLi448/5sUXX1TFg1Utdh44cIDs7GyuX79Oeno6/v7+PPfcc2bXMZW+EhkZiV6vJyQkhPDwcFq3bs0HH3xgdu2GNE1e2bBhAwEBAQwePJgHH3wQgC+++EKxHrGp9JVhw4aRkJCgmgdT6SurV68mLy+PJUuWsGTJEh5++GFeffVVRfR/C2rtoDGs4/Tu3ZuUlBQSEhK46667+Pbbb1XRb0rDtZx27dpRVFSkuKapdZzIyEgAVfSbEhMTw5IlSzh06BAhISGq6VpVIQ8JCVHlzTGVvqL23I7mkkf0er2qPkylr8yePVsV7ebegx49eqiyRmHppKamkpiYSPv27Vm2bBkJCQma+DD8sT137hyBgYGN1nKU5ufWcbSg4TqOWlhVa0UQhHp+ah1HbZpby1GDn1rH0QrDOo6aSCEXBCukuXUcrTGs5ahFc+s4WmFYx1HysKAprKq1IgjWwJo1azh+/DjV1dWcPHmSGTNmmF3D1DpObGwszs7O7N69mwsXLjB06FC2bt2Ku7u72fUb0nQtZ+PGjfztb3/jvffe49ixYwwdOpS1a9fSuXNns2ubWscZNWoUBQUFquiD6XUcZ2dnYmJi+Oabb3BzcyMjI4M1a9Yoog9SyAXB7EyaNElxDVPrOIWFhQAsXrxYcX0Dza1jTJ48mcmTJ6viwdQ6jsGD0jT3+qH+JLJaSGtFEATBypGoNzNiCcPqtfagtT5I1Jtge0jUm3i47fRBot4E20Ki3syIJQyr19qD1vpg3oH9gmANSNSbGbGEYfVae9BaXxBsEVnsFARBsHKsavvhDz/8wBtvvIGjoyNVVVU8/fTT9OrVSzG9hglBAOHh4UYfr7zyCk8//bRi2qYSglatWsXTTz/NuXPn+PHHHxkzZgwvvfSSYh7g1oSgJ554gq+//loVD80lBNnZ2fH888/j5OREdXU1q1atIigoSBEPgmANWFUhd3Nz47XXXsPe3p6LFy+yYsUKxfbMNk0I6tSpE7t378bJyYmysjKCgoIULeRwa0JQbm4uGzZswMnJiZqaGrp3786ECRNo2bKlIvqmEoJ2797N5MmTVfNgKiHo6NGjZGZmYmdnx549e1i4cOGvGmCm1c4q0H53lSXsKhIP9Zhzd5VVFfKGiUA//vijosN5TE2WM6TSlJeX06NHD8W0m9JwqpzBQ0VFBR07dsTNzU0x3Z+aLKeWh4aYmix37do1evfu/Yv+f0vYWQXa7+rRWl883MRcu6usqpADlJaWsnLlSs6dO2ccYq8EpibLVVVVMXToUPLz81U5PdfcVLlRo0aRkZHB//7v/yoac/ZTk+XU8tAUw2S5rKwspk6dytmzZ9m8efMv+n+13lkF2u+usoRdReKhHnPurrK6Qu7j48OCBQu4dOkS8+fPp3///mbXaDhZDjBOluvfvz/79u3jypUr3HfffTz55JPccccdZtc30LCtMG3aNJYvX058fDybN2+moqKCsLAwnnrqKe69915F9Dt06EBeXp7J76nloSmGyXIDBw7kq6++Iisri8mTJ5OVlfWLn0OrnVWg/e4qS9hVJB7Mj1XtWqmurjb+t5ubGy4uLoromJosl5ycbJwF7u7ujouLi2L6pvDy8uLChQtUVVUB9cHHrq6uxjBqJTA1We6zzz5T1UNDGiYEGWjVqpVqrR1BsFSs6or8zJkzbNy4EXt7e2pqahg/frwiOqYmy40fP55Dhw7h6OiITqdjzpw5ih84MTVVztCj1ul0PPXUU3Tq1Ekx/eYSghYtWqSaB1OT5dLS0li2bJmxpbNixQrF9AXBGrCqQt6lSxfmz5+vuI6pyXJqz+9obqpaWlqaqj4sNSHoscceU8WDIFgDVlXIBcHSOXXqFOvWrcPe3h57e3smTZpEmzZtFNNreNahuLiYcePGodfr0ev1rFy5UvGAA1PnHRITExk5ciQ3btygpqaGuXPn8uijjyrmoelZh2HDhpGWlqaKfnNnHc6cOcP8+fNxdnbG3d2djRs3KprlKoVcEMyIl5cXs2fPxtXVlezsbN5//32mTJmiiFbTsw6tWrXio48+wsfHh/z8fCZOnEh6eroi2g1pet7hxIkTvPPOO/j7+1NaWkpISIhihdTUWYddu3Yxbtw4VfTB9FmHzz77jH379uHk5MSqVatYsWIFCxYsUMyDVS12CoKl4+XlZVz8dXR0bHT2wdwYzjqMHz+elJQUvLy88PHxAcDJyUnVbaHQ+LyDYausi4sLdnZ2immaOusQFRWlmn5TYmJi8PX1paSkxHjmQ42fhRRyQVCAyspKUlNTGT58uGIaqampPPvsswwfPpxdu3YZH6+trSUuLo5Zs2Yppt0Qw4J0YGAg3t7ejQ7qTZkyhZdfflkx7Z8666CGvikMZx0ALly4wJtvvklsbKyimlLIBcHM1NTUsGLFCh5//HECAgIU0Wh41iEmJsZ41gEwPvbII48oot2U/v37k5aWxvHjxwkICGD58uUALFiwgDvvvFPRItahQweKi4tNfk8NfVMYzjqUlZUxevRo/vGPf9C+fXtFNc3eI9dqhsWlS5cANJubADdnJ9iyB631tdbW6/UkJSVx3333MXDgQMV0DGcdpk6dCsDevXtJSUkhNTWVdu3aKdaX/zm8vLy4ePEiSUlJfPvtt2zYsEFRvejoaGbPnk1OTo6xvfL5559z7NgxVfSb0vCsw8iRI5k9ezaDBg1SXNdshdzHxwdXV1eSkpLM9ZS/Gnt7e8aOHauZPtTPTrB1D1rrQ/2BMUO/WE0OHDhAdnY2169fJz09HX9/f5577jmz65g66xAZGYleryckJITw8HBat279q4aJ/VaannfYsGEDAQEBDB48mAcffBCAL774QpE+cXNnHRISElTRB9NnHVavXk1eXh5LlixhyZIlPPzww7z66quK6IMZC7m/vz8FBQWUlpaa6yl/NTqdTvNUGPGgvT7UX1goOVStOUJCQowDvZTE1FkHLaLtmtvrbzgFrQaWetZBrTUKMHNrxd/fX5NfHkEQBFtGFjs1Ji0tjaFDh6LT6YiKiiIoKIg333yTGTNm0L17d4KCgoiKiuLs2bNaWxUEwUKRQm4h5OTkcO3aNXJzc5k6dSoREREcPXqU3NxcRo0axbRp07S2KAiChSKFXAOSk5Pp2rUr9913H9u2baOuro4xY8aQn59Pnz592L9/P4888ggtWrQAYMCAAZw5c0Zj14IgWCpSyFXmwoULzJgxg3379pGVlUVxcTF2dna8/fbbDBo0iJycHAYPHtzo/1mzZo1qe4IFQbA+pJCrzMGDBwkNDaVdu3bY2dn97Da9t956i6NHj5KQkKCSQ0EQrA0ZmqUydXV1v/jffvTRR7z55pukpaWpFt4gCIL1IYVcZe6//37i4uI4f/48bdu2JTk52eS/++yzz5g1axZ79uzR5GDL7cyRI0c0O4FcUFAAaJfebgnp8eKhHnNmHNjV/ZpLRMEsJCcn89prr9GmTRvCwsI4ePAgCQkJLFy40DgOs2vXrsaTYlB/wMXwPeG3ceDAAUJDQ1U9rGIKe3t7TT1orS8ebuLg4EB6ejrBwcG/63mkkAs2Q3Z2Nv3792fKlCncddddmng4cuQImzZt0iy93RLS48VDPceOHWPs2LEcPnz4dwdAS2tFsDnuuusu7r77bk20DS0drdLbLSE9XjyYH9m1IgiCYOVIIRcEQbBypJALgiBYOVLIBUEQrBxZ7BQEM/LDDz/wxhtv4OjoSFVVFU8//TS9evVSTC82Npb8/HwyMjIACA8PN/p45ZVXePrppxXTBigqKqJv374EBQWh0+no27cvq1at4umnn+bcuXP8+OOPjBkzhpdeekkxD3l5eUyfPp3Kykpqa2t54okn+Prrr1XRb/j6Kyoq8PX1ZenSpdjZ2fH888/j5OREdXU1q1atIigoSBEPcJsV8uLiYk2DLcAyQhW09qC1PmgXLOHm5sZrr72Gvb09Fy9eZMWKFSxevFgRraqqKrKzs/Hz8+P06dN06tSJ3bt34+TkRFlZGUFBQYoXcqjP7DSccYiKiiI3N5cNGzbg5ORETU0N3bt3Z8KECbRs2dLs2mVlZYwYMYItW7YYo952797N5MmTVdGHxq9/27ZtjBw5kqNHj5KZmYmdnR179uxh4cKFiqY13TaFvLi4mO7du3Pjxg1NfVjCIQOtPWitD+Dq6kpBQYHqxTIJcVcAACAASURBVNze/ma38scff1RUf8eOHYwYMYLevXuTkpJCQkICTk5OAJSXl9OjRw/FtE1RW1tLRUUFnp6eRh8VFRV07NgRNzc3RTS3b99OaGiosYgDREZGGv9baf2mxMTEsGTJEg4dOmRMirp27Rq9e/dWVPe2KeSlpaXcuHHDIg572LIHrfWhfq92UlISpaWlmlyVl5aWsnLlSs6dO0dcXJxiOqmpqSQmJtK+fXuWLVtGQkICVVVVDB06lPz8fMXuBJpiyKw8d+4cgYGBxvd81KhRZGRk8L//+7+K5WWePXuWDh06mPyeGvqm8PPz47vvviMrK4upU6dy9uxZNm/erKjmbVPIDVjCYQ9b9qC1viXg4+PDggULuHTpEvPnz6d///5m17h+/TqZmZlMnDgRqC9ohw8fpn///uzbt48rV65w33338eSTT3LHHXeYXb8hDVsL06ZNY/ny5cTHx7N582YqKioICwvjqaee4t577zW7docOHcjLyzP5PTX0TVFSUsJdd93FwIED+eqrr8jKymLy5MlkZWUppim7VgTBjFRXVxv/283NDRcXF0V0PvzwQ2bOnMnOnTvZuXMnGzZsIDk52djScnd3x8XFRTH95vDy8uLChQtUVVUB4OLigqurq2LTO6Ojo8nMzCQnJ8f42GeffaaaflN27NjB5cuX6dmzp/GxVq1aKd7aue2uyAVBS86cOcPGjRuxt7enpqaG8ePHK6KTkpLC6tWrjV8PHjyY8ePHc+jQIRwdHdHpdMyZM0eVRWdDa6W2thZHR0c2btxo7FPrdDqeeuopOnXqpIi2p6cnW7duJT4+nsrKSvR6PcOGDWPRokWq6MPN128Ycrd582bS0tJYtmyZsaWzYsUKxfRBCnkj1q5dS0lJCQsWLFBd+9KlS8ycOZOOHTtSXV1Np06dmDBhgqoeDEWouroavV7PoEGDiI6OVk2/4Xug0+m44447GDt2LH5+fqp5+L106dKF+fPnK66zZ8+eRl+3aNHCrGNRfykBAQF8//33tzyelpammoegoCB2797d6LHZs2erot3c6+/RowePPfaYKh5ACrmRmpoaTp8+jbe3N5cuXcLX11d1D3fffTdz5swBYNGiRRQVFREQEKCKdkVFBUuXLiU+Pt6omZubq4p2Qxq+B4cOHSIxMZG//OUvxvxSQRBuRXrk/yU7O5sBAwYQHh5Oenq6pl70ej06nU61LVNQ//rvueeeRn84lDzA8EsYMGAAnp6enDx5UlMfgmDpSCH/LxkZGQwZMoR+/fppciUKcOrUKebNm8dLL72Eh4eHqslApaWlFplEdOedd3L16lWtbQiCRSOtFerbCoWFhbz11lsAXLlyhVOnTqm+fa5hW2HdunVs376dESNGqKLt4+NDdna2Klq/hitXruDt7a21DUGwaKSQA1999RWPPfYYw4YNAyA/P5/09HRN90G7u7tz7do11fT69etHampqo758Xl6e4ifSfors7GzKysro3LmzZh4EwRqQQg6kp6fzwgsvGL/u1q0ba9euZdy4cY2OXCuNobWi1+txcHBg8uTJqmm7ubkRHx9PcnJyo10rahdyw3ug0+nw9PRk+vTpstApCD+DFHJg7ty5jb52dHRk5cqVqnrw9fVl3bp1qmo2JSAggISEBM301XoPjhw5YjyBqjYFBQWAduntlpAeLx7qMed2USnkgs2g0+mwt7dn06ZNmvqwt7c3roXYor54uImDgwM6ne53P48UcsFmcHZ2Rq/XW8RQM63S2y0hPV481HPs2DHGjh1rltO3UsgFm8MShpppld5uCenx4sH8yD5yQRAEK0cKuSAIgpVj1taKllFrhlslS9iRYMsetNaH+uFbgmBLmK2QW0LUmqXsSLB1D1rrGzyYYzeAIFgDZivkWketab0bACxjJVxrD1rrg3l3A/xWysvLmTp1Kn/6058ICwtTTCc2Npb8/HwyMjKMj1VVVXHvvfcyfvx4xc8FNEyR1+l09O3bl1WrVhm/HxYWRrdu3Xj77bcV85CXl8f06dOprKyktraWJ554gpdfflkV/Yavv6KiAl9fX5YuXWpMIyosLKRnz558+eWXhIaGKuIBFNi1onXEmK2vhGvtQWt9S+Gjjz7innvuUVSjqqqK7Oxs/Pz8OH36tDE84e9//7tqsWbQOOotKiqK3NxcgoKC+Pjjj2nVqpWi2mVlZYwYMYItW7YYA5gNs8nV0IfGr3/btm2MHDmSo0eP4uzszLx58wgPD1fcgyx2CoKZuXDhAj/88IPiFzQ7duxgxIgRjB8/npSUFKA+sf3zzz9n1KhRimqbora2loqKCjw9PampqWH16tX8+c9/VlRz+/bthIaGGos4QGRkpGr6TYmJicHX15dDhw6xb98+AgICVOlQSCEXBDOzadMm/vCHPyiuk5qayrPPPsvw4cPZtWsXUB9IMnPmTMW1G2KIOgsMDMTb2xt/f3/WrFmjSnvr7NmzdOjQ4ZbH1dI3hZ+fHyUlJbz++uuq/SysspCXl5fzpz/9iX379imqExsbe0tfq6qqii5durBw4UJFtYuKivDy8iI8PJzg4GDi4uIafT8sLEyVKLi8vDwiIyMJCwsjJCSE5cuXq+ah4XswcOBAoqOjyc/PN36/sLCQFi1aNOoPa83x48dp2bIlbdu2VVTn+vXrZGZmMnHiRGJiYjh79iyHDx/m9OnTivbkTdG/f3/S0tI4fvw4AQEBLFy4kC1btjB27FjFtTt06EBxcXGjx8rKylTTN0VJSQknTpxg6NChqrR2wEpPdtpK/1HL3iNI//G3cOLECc6cOcOiRYu4cOECLi4utG/fni5duphV58MPP2TmzJlMnToVgL179zJ69Gjatm3LI488wnfffYdOpyMoKIiYmBizav8UXl5epKWl8eOPPzJs2DCuXr3K+fPnefvttxX5ox8dHc3s2bPJyckxfkZXr15NWVmZKvpN2bFjB5cvX6a0tJS8vDw+//xzjh49SkFBAZs2baJjx46K6FpdIVe7/9i7d29SUlJISEgw9h9Hjx5NSUmJovoNMdV7fOWVV/jggw8U1f25/qMaHhoSExPDkiVLOHToELW1tQQEBGi6M8UUw4YNM861f//992nbtq3ZizhASkoKq1evNn49ePBgWrRoQXp6Og4ODqxfv56SkhJVirihtVJbW4ujoyMbN240BmanpaWRnJysWBH19PRk69atxMfHU1lZiV6vZ9SoUWRlZamiDzdff0VFBa1bt2bz5s306NHD+P3x48czYcIExYo4WGEh37RpE0899ZTibZXU1FQSExNp3749y5YtIyEhwdh/PHXqlKLaBgwfkHPnzhEYGIi/vz+rV69Wrfdnyf3HdevW8d577/Hiiy+q7uGX8uSTTyr23Hv27Gn0dYsWLSgsLDR+PX78eMW0G9JciryB8PBwxe+agoKCjHeKauv/3OsHWL9+vWL6BqyqR25r/Ucte48g/UdBsBas6orclvuPavceQfqPgmAtWFUht7X+o5a9R5D+oyBYC1ZVyBtyu/cfLaH3CNJ/FARrwKp65IIgCMKtSCEXBEGwcqSQC4IgWDlW2yMXhN+KJQR/fPrpp8ZJkWqSmZmpqb54uMnp06fN9lxmL+Rap8Jo9UOBmz8YW/agtf5Paet0OosJvZgzZ47N6ouHmzg4OJglAMWurq6uzgx+KC4uplu3bjafymJnZ4eZ3lKr9aC1PoCLiwuFhYX4+/sbH8vOzqZ///6ahZ+A9gEolhD8IR7qMQSgHD58+HfP7jfrFbm9vbYtd3t7e/R6vaYeLKGIae1Ba32Dh+bQKvwEtA9AsYTgD/FgfiTqzYxYwl95rT1orQ83r3RKS0sbXZELwu2KRL2ZEUv4K6+1B631BcEWke2HgiAIVo7VbT8cM2YMXbt2BeoTaiIiIhTTappQ3qlTJ+NMj4cffphXX31VMe3m0snDw8PR6XQ4OzvTq1cvkpKSFPMAphPKP/nkE1U8NJdQ7ubmZnwcID4+nuHDhyvi4bdgK59RsIzPqXxGrbCQe3t7M2/ePMV1TCUEOTg4kJaWpri2AVMJQQAffPCBcXiWkjSXEPTJJ5+o5sFUQtC2bdsaPW5p2NJnFLT9nMpntB6ra61cu3aNuXPnkpiYaNw7rgSmEsrr6up48MEHeeSRR8jJyVFMuykNE4Ls7Oz44x//yIMPPnjLcC9z01xCkJoeGmJIKC8tLSU3N5cHHniAcePGUVpaqpqHX4ItfkZBm8+pfEbrsbor8r///e94enqSm5vLmjVr+L//+z9FdEwlBB08eBAfHx9yc3N55pln+OabbxTRNmAqIeiDDz7Ax8eHs2fPMnToUA4dOkTLli0V0W8uIUhND00xJASdOnWKli1b8o9//IMZM2bw7rvvqqL/S7Clzyho+zmVz2g9VndF7unpCdSPV718+bIiGs0lBPn4+Bi13d3df3bE6u+laULQ8uXLjR46dOhAUFAQJ06cUEzfVEIQoKqHppSUlODn52f8pRwzZgyHDx9WTf+XYEufUdD2cyqf0XqsqpAbwg2gfpHB8AtjbgwJQTt37mTnzp1s2LCB5ORkKisrgfqtjteuXVM1aszLy4sLFy5QVlYGQHl5OUePHiUgIEAxzejoaDIzMxvdon/22WeqemiIISGoZ8+exse++OILunfvror+L8GWP6Og/udUPqP1WFVrpaSkhLfeegtXV1cAXnjhBUV0TCUEPffcc6SlpeHh4UFtbS1r1679ydOD5qBpQtA///lPHnzwQVxdXamurmbevHl4eXkppm8qISgmJoZZs2ap5sFUQtCXX37Ja6+9RsuWLXFxceEf//iHYvq/Flv7jIK2n1P5jNZjVYW8S5cuLF26VHEdUwlBJ0+eVFy3Ic2l46jdRjCVEDRz5kxVtJt7D3r06MHIkSNV8fBrsaXPKFjG51Q+o1bWWhEEQRBuRQq5IAiClSOFXBAEwcqRQi4IgmDlSCEXBEGwcsy+a0WrPEStsxDBMnIAtfagtT6YNwtREKwBsxVyS8hDtIQMPvGgvT6YLwtREKwBsxVyZ2dn9Hq9JARJQpDm74EhIcjZ2dnk97W6awTt7xwt4Y5JPNRjzjtHSQgyI5aQjqO1B631fwpLuGsE7e9YtNYXDzcx152jVZ3sFITfg9Z3jaD9naMl3DGJh3p+7s7x1yCFXLA5tLprBO3vHC3hjkk8mB+rK+SnTp3iX//6F7W1tXTu3JmxY8cqptU0RuvUqVNMmzaNH3/8ET8/P/75z38qpt1chFZpaSl//vOfuXz5Mo6OjrfMmDA3pmK0/ud//kcVD83FaN17773s2rWLpUuXGockvfzyy4p4EARrwKoKeU1NDSkpKUyfPt04XU4pTMVoTZ48mXfeeYd27dopqm3AVIRWYmIi//d//0ePHj0U128uRuvFF19UzYOpGK309HSSkpL497//jZOTk+IeBMHSsaoDQcePH8fFxYU333yT+fPnk5+fr5hW0xitM2fOUFFRwbRp0xgyZAgfffSRYtpNMURoeXh48J///Idly5YxZMgQVq1apaiuqRithx56SFUPDTHEaK1ZswZvb29GjBhBVFSUKik4gmDJWNUV+dWrVzlz5gxLly6lsrKS1157jb/+9a+KzFxuGqP10EMPceTIEfLz82nZsiWDBw/mwQcfxNvb2+zaBppGaLm4uHD06FE2bNhAYGAgERERhIeHc++99yqibypG69KlS6p6aIohTPfEiROkpaVx7NgxYmNjjdvJBMEWsaorcg8PD7p164abmxve3t60bNnSmARiTkzFaNnb29OrVy/uuusuPD096dOnj+LxUU0jtJKTk2nfvj1BQUE4OTkRHh7Of/7zH8X0TcVoeXt7q+qhKSUlJQBERETg5OSkaJzab+XUqVMsXLiQ+fPnk5ycrKhWbGwsoaGhjbRjYmKIiIjgf/7nfxTVhvp1DC8vL8LDwwkODiYuLg6A0tJSnnrqKSIiIoiMjFTUQ15eHpGRkYSFhRESEsLy5ctV02/4+gcOHEh0dLSxU7Br1y4eeughHnzwQZYvX66YB7CyK/KuXbuyadMmamtrqaqqoqysTJFAVUOM1tSpUwHYu3cv7733HhUVFZSXl+Pq6kp+fr5q8VFQH6F1+fJl7r77boqLi/H39+fw4cM88cQTimlGR0cze/ZscnJyjO2V9PR0VT00xBCj9cc//pEXX3wRgOLiYsXi1H4LtraOA9qu5cg6Tj1WVcjd3d159NFHmTdvHrW1tYwZMwZ7e/PfVJiK0YqNjeXNN9/k0Ucfpbq6mhdeeAFfX1+zazekaYTWxo0bKS0tZdy4cVRXVxMREUHfvn0V0zcVozVq1ChWrlypmgdTMVr33HMPDz74IGFhYVRXV7Ny5UrF9H8tDddxKisrGT16tGJtJ8M6Tu/evUlJSWHcuHHGdZyLFy8ydepU1f7Igum1nJMnT/LUU08Zr9TNTXPrODNmzFBFvykxMTEsWbKk0TpOXV0dy5cvV/SPilUVcoCwsDDCwsIU1TAVo1VYWAjUX3GoQXMRUn5+fuzdu1cVD2A6RgtQxUNz7wHAjBkzmDFjhuIefi22to4D2q7lyDpOPVbVIxcES8fW1nFA27UcWcepRwq5IJiRrl27cv78eWpra7lx44bi6zg7d+5k586dbNiwodE6Tk1NjerrOHDrWg7UX7F37dpVEb3o6GgyMzPJyckxPtZwHUdp/aY0XMcxBFCrsY5jda0VQbBkbG0dB7Rdy5F1nHqkkAuCmbGVdRywjLUcWceR1oogCILVI1FvZsQShtVr7UFrfZCoN8H2kKg38XDb6YNEvQm2hUS9mRFLGFavtQet9cG8A/sFwRqQqDczYgnD6rX2oLW+INgistgpCIJg5cj2Q8Hm0GpBHrRflLeExWjxUI85F+WtqpAXFxfz7rvvAlBdXc358+eNXytBw6i3y5cvM3r0aOP3MjMzuXTpEl5eXopoNxf19tBDD1FbWwvAwYMHycrKolevXop4ANNRbzt27FDFQ3NRb9999x2LFi0C6o+q29vbG0/R/RSWsCAP2i8Ga60vHm5irkV5qyrk/v7+zJs3D4CMjAxF/5KaGhGalpYGwIEDB3jttdcUK+IGTI0H/eKLL4D6NYHIyEhFi3hzI0IN+ZhqeDA1IvTo0aM8/PDDACxevPgXn5zUekEetF+Ut4TFaPFQjzkX5a2qkDckIyODkSNHKvb8TUeEJiQkGL+XkpKiaOhzUwzjQRvOa0hNTeWZZ55RVNfUiNCGQ/rV8NAQw4jQQ4cOERISYvSwY8eOX/U8Wi3Ig/aL8pawGC0ezI9VLnaWlZVx/vx5unfvrphGamoqzz77LMOHD2fXrl3Gx2tqatixY4eif0QMGGY4BAYG4u3tjb+/v/F7//rXvxgzZoyi+qZGhDZEDQ9N8fPzMxbDnJwc7rzzzp/0KAi2gFUW8v379zN48GDFnt/UiFBDD3bXrl088MADuLu7K6ZvoOl4UENc1DfffIOHh4fik+1MjQg1oJaHppSUlBjbIoYwBUGwdayykGdkZPDAAw8o9vymRoSmpKQAkJycrGpbxYCXlxcXL15U1YOpEaGGfrUW74NhROiAAQPQ6/Vs2bKFP/zhD6p6EARLxOp65BcvXkSv19O+fXvFNJobETp37ly+/vprxQN1DZgaD1pXV8fmzZv56quvFNdvbkToQw89pJoHUyNCnZ2d2bNnD3379rWovE5B0AqrK+Rt2rTh9ddfV1Tjp0aEqpG4Aj89HtPgRQ2aGxGqhoefeg8iIiKIiIhQ3MOvxZa2yIJlbJO9nbbI/lasrpALgiVja1tkQdttsrfbFtnfilX2yAXBGlB6LcewRXb8+PHGNRwDam+RBW22yVriFllfX18OHTqkqgcp5IKgALayRRa03SYrW2TrkUIuCApgK1tkQdttsrJFth4p5IKgALa4RRbU3yYrW2TrMftip1ZT5S5dugSg2SQzuDnNzJY9aK2vtTbY1hZZ0HabrGyRrcdshdzHxwdXV1eSkpLM9ZS/Gnt7e82uRAw4ODjYvAet9QHc3Nzw8fHRRNtWtsiCZWyTlS2yZizk/v7+FBQUUFpaaq6n/NXodDrN473Eg/b6UH9h0XDRTRBuZ8zaWvH395dfnl9JWloaCxcuNG4lu3DhAs8//zwODg6sWbMGBwcHWrRowV/+8heGDBmitV1BECwQORBkIeTk5HDt2jVyc3OB+u1rf/7zn4H6k2uPPfaYWRNFBEG4fZBdKxqQnJxM165due+++9i2bRt1dXWMGTOG/Px8+vTpw/79+xstkJSXl2voVhAES0cKucpcuHCBGTNmsG/fPrKysiguLsbOzo63336bQYMGkZOTY9x//Pbbb9OtWzdiYmLYsGGDxs4FQbBUpJCrzMGDBwkNDaVdu3bY2dn95O6OCRMmcPz4cXbu3MmsWbOoqqpS0akgCNaCFHKVqaur+9X/z8CBA6mrqyMvL08BR4IgWDuy2Kky999/P3FxcZw/f562bds2e3CjoKDAOKejoKCAU6dOaZYzebtx5MgRzQ6uFRQUAPXhv1ocXMrMzNRUXzzcxJybF6SQq0zbtm1ZunQpQ4YMoU2bNoSFhXHw4MFb/t3KlSvZu3cvTk5OODs7s2HDBry9vTVwfPug0+mwt7dn06ZNmvqwt7dnzpw5NqsvHm7i4OCATqf73c9jV/db7vUFwQrJzs6mf//+TJkyxTjUSG2OHDnCpk2bSE5OJjAwUHX9Tz/9lDlz5mimLx5ucuzYMcaOHcvhw4fp16/f73ouuSIXbI677rpLszaVoaUTGBj4u395fwuGNoJW+uJBGWSxUxAEwcqRQi4IgmDlSCEXBEGwcqSQC4KZeeedd3j11Vf5f//v/5GRkaGoVmxsLKGhocavFy9ezH333cfAgQONST1KUlRUhJeXF+Hh4QQHBxMXFwfA+vXrGTBgAMHBwbzyyiuKesjLyyMyMpKwsDBCQkJYvny5avoNX//AgQOJjo4mPz+fqqoqnnzySR544AHuv//+W8YOmxtZ7BQEM1JcXExJSQmLFi2isrKS+Pj4RoXWnFRVVZGdnY2fnx+nT5/Gx8eHdevWGRfy7r33XiZOnKh45FvDFPmoqChyc3OZP38+R48excPDg4iICI4dO6bI7pCysjJGjBjBli1bjAHMu3fvZuLEiaroQ+PXv23bNkaOHEliYiIeHh6kp6dTXFzM6NGjTW4zNhdyRS4IZsTb2xtnZ2dqamq4ceMGHh4eimkZRh+PHz+elJQUXF1d8ff358aNG9y4cQNXV1datGihmH5TamtrqaiowNPTk549e1JeXk51dTVVVVW0atVKEc3t27cTGhpqLOIAkZGRquk3JSYmBl9fX3x8fKipqaGuro6rV6/Spk0bRXVvqyvy4uJiTYMtwDJCFbT2oLU+aBcs4e7uTvv27Zk2bRpVVVXExsYqppWamkpiYiLt27dn2bJlJCQkEB0dzT333ENdXR0JCQk4OTkppm/AEHV27tw5AgMD8ff3Z9y4cfTr1w8XFxdGjx5Nu3btFNE+e/asyYR6tfRN4efnR0lJCdXV1XTv3p3r16/zySefKKp52xTy4uJiunfvzo0bNzT1YW9vj16vt2kPWusDuLq6UlBQoHoxz8vL4+LFiyQlJVFRUcHcuXMJCgoye0G9fv06mZmZTJw4EagvaAcPHuRf//oXJ0+eBCA8PJzo6GjF34OGrYVp06bx+uuvs2HDBo4dO0bLli0ZNWoU+/fvN071NCcdOnS4ZQZReXk5s2fPVkXfFCUlJRQUFNC6dWsKCwspLi5mxIgRjQKizc1tU8hLS0u5ceOGRZzas2UPWutD/aGbpKQkSktLVS/kdXV1uLu7Y29vj6urKzU1NdTW1ppd58MPP2TmzJlMnToVgL179/LGG2/QsmVLXFxcgPo/ZmrPsvfy8uLq1as4OTnRsmVLHBwc8Pb2bjbX8vcSHR3N7NmzycnJMbZX9uzZo5p+U3bs2MHly5dp27YtdnZ2ALRq1Urxn8NtU8gNWMKpPVv2oLW+1vTu3Zv9+/czZ84campqePjhh3F1dTW7TkpKCqtXrzZ+PXjwYGJjYxk1ahTBwcHo9XrCwsLo0aOH2bWbYmit1NbW4ujoyMaNG+ncuTODBw/G0dGRu+++m6ioKEW0PT092bp1K/Hx8VRWVqLX6xk1ahRxcXGq6MPN119RUUHr1q3ZvHkzAQEBPPPMMwwZMoSKigoWLVqkmD7choVcELTE3t7euAVPSZpuZ2vRooVqqfUNaS5FfvLkyUyePFkVD0FBQezevdukB6Vp7vUDbN26VXF9A1LIG7B27VpKSkpYsGCB6tqXLl1i5syZdOzYkerqajp16sSECRNU9XDmzBk2btxIdXU1er2eQYMGER0drZp+w/dAp9Nxxx13MHbsWPz8/FTzIAjWiBTy/1JTU8Pp06fx9vbm0qVL+Pr6qu7h7rvvNo7VXLRoEUVFRQQEBKiiXVFRwdKlS4mPjzdqGoKg1aThe3Do0CESExP5y1/+ouo2OkGwNmQf+X/Jzs5mwIABhIeHk56erqkXvV6PTqfDzc1NNc3s7GzuueeeRn84goKCVNM3xYABA/D09DTuwhAEwTRSyP9LRkYGQ4YMoV+/fppciQKcOnWKefPm8dJLL+Hh4YGPj49q2qWlparq/VLuvPNOrl69qrUNQbBopLVCfVuhsLCQt956C4ArV65oEq3WsK2wbt06tm/fzogRI1TR9vHxITs7WxWtX8OVK1ckGUkQfgYp5MBXX33FY489xrBhwwDIz88nPT1d0+1z7u7uXLt2TTW9fv36kZqa2qgvn5eXR+/evVXz0JTs7GzKysro3LmzZh4EwRqQQg6kp6fzwgsvGL/u1q0ba9euZdy4cdjbq9d9MrRW9Ho9Dg4Oqm3fAnBzcyM+Pp7k5ORGu1bULuSG90Cn0+Hp6cn06dNlx/zGnQAAFlxJREFUoVMQfgYp5MDcuXMbfe3o6MjKlStV9eDr68u6detU1WxKQEAACQkJmumr9R4cOXLEeHBJbQoKCgDt0tstIT1ePNRz+vRpsz2XFHLBZtDpdNjb27Np0yZNfWid3q61vni4iYODAzqd7nc/jxRywWZwdnZGr9dbxCwcrdLbLSE9XjzUc+zYMcaOHWuWSaFSyAWbwxJm4WiV3m4J6fHiwfzIPnJBEAQrRwq5IAiClWPW1oqWCT2GWyVL2JFgyx601of64VuCYEuYrZBbQkKPpexIsHUPWusbPJhjN4AgWANmK+RaJ/RovRsALGMlXGsPWuuDeXcD/Bbef/998vLycHR05E9/+hMdO3ZUTCs2Npb8/HwyMjKA+lHM7777Lk5OTsybN4+HHnpIMW2AoqIi+vbtS1BQEDqdjr59+7Jq1So++eQTFi1ahJOTE5MmTWLMmDGKecjLy2P69OlUVlZSW1vLE088QZcuXVTRb/j6Kyoq8PX1ZenSpQQGBhIbG0thYSGurq68/fbbJrNFzYXZd61onUxj6yvhWnvQWl9rioqKOHHiBAsXLqS0tJS//e1vzJs3TxGtqqoqsrOz8fPz4/Tp07i7u7N27VoOHjxIZWUl4eHhZGVl4eDgoIi+gYaZnVFRUeTm5hIfH8+hQ4dwcXEhNDSU4cOHK5JkX1ZWxogRI9iyZYsx6m337t1MmTJFFX1o/Pq3bdvGyJEjWbBgAQ4ODuzbt48DBw4wa9YsUlJSFNEHWewUBLNy7tw544WMj48PFy9epLq6WhGtHTt2MGLECMaPH09KSgpFRUXce++9tGjRgpYtW+Lq6qrqCODa2loqKiqorKykdevWtGzZkhYtWtC1a1eysrIU0dy+fTuhoaHGIg7Qp08f1fSbEhMTg6+vLwUFBQwYMACoH8eclpamqK4UckEwIx06dOCbb76hpqaGoqIirl69yo8//qiIVmpqKs8++yzDhw9n165ddO7cmSNHjlBWVsZ3333H0aNHVRkBbMisDAwMxNvbmwEDBnD58mW+++47ysrK2L9/v2I+zp49e0vLwsfHRzV9U/j5+dGpUyd27dpFXV0dO3fu5MqVK4pqWt2BoHfeeYdTp06h1+sZPnw4oaGhimk17T8uXryYzZs3Y2dnxx//+EdefvllxbSb6z2uX7+ev/3tb7Ro0YLBgwezbNkyxTyA6f6jt7e3Kh6a6z926dKFsWPHcv78eaqrq3n99deJiIhQxMOvpUOHDoSEhLBgwQLatGmDv78/np6eZte5fv06mZmZTJw4EagvaEVFRcybN4+YmBjatGlDnz59aN++vdm1m9KwtTBt2jSWL1/O2rVrGTt2LB4eHvTu3VsxHx06dCAvL6/RY/b29qrpm6KkpITOnTvTvXt3wsPD6devn+Ih2FZVyIuLiykpKWHRokVUVlYSHx+vWCFv2n/08fFh3bp1xh7wvffey8SJE3F3d1dEH0z3HufPn8/Ro0fx8PAgIiKCY8eOKbao2Fz/ceLEiap5MNV/TExMxMPDg/T0dIqLixk9ejQHDx5URP+38Mgjj/DII49QXFzMli1bFJmg+eGHHzJz5kymTp0KwN69e0lJSWH58uWMHj2a8+fP89xzz+Hv72927Z/Cy8uLixcvEh4eTnh4OOXl5Tz++OMMGjRIEb3o6Ghmz55NTk6O8TP6+eefM3ToUFX0m7Jjxw4uX77MgAEDCAkJAep/Z5Se4GlVhdzb2xtnZ2dqamq4ceMGHh4eimkZ+o+9e/cmJSWFWbNm4e/vb9xe6erqqtp4VUPv0dPTk549e1JeXo6zszNVVVWKLeCA6f5jZGSkqh4aEhMTw5IlS/Dx8aGmpoa6ujquXr1KmzZtVNH/pSxcuJDa2lpatmzJ888/r4hGSkoKq1evNn49ePBgYmNjuXz5MiUlJbi5uZGUlKSIdlMMrZXa2locHR3ZuHEjM2bM4Ouvv8bR0ZHFixcrtoPI09OTrVu3Eh8fT2VlJXq9nlGjRrF7925V9OHm66+oqKB169Zs3ryZiooKoqKicHBwoGPHjor/LKyqkLu7u9O+fXumTZtGVVUVsbGximmlpqaSmJhI+/btWbZsGQkJCURHR3PPPfdQV1dHQkICTk5OiunDzQ/IuXPnCAwMxN/fn3HjxtGvXz9cXFwYPXo07dq1U0zfVP8RUNVDU/z8/CgpKaG6upru3btz/fp1PvnkE9X0fwlqjALes2dPo69btGhBYWGh4rpNCQgI4Pvvv7/l8aVLl6rmISgoiN27d6um15DmXj+g+AJnQ6xqsTMvL4+LFy+SlJTEX//6V9577z2qqqrMrtOw/xgTE8PZs2c5ePAg//rXvzh58iSnTp3in//8J8XFxWbXbkj//v1JS0vj+PHjBAQE8PrrrzN79myOHTvGiRMnKCwsZP/+/Yrpd+jQ4ZbXWF5erqqHppSUlFBQUEDr1q0pLCwkKytL0T/ogmANWFUhr6urw93dHXt7e1xdXampqaG2ttbsOob+486dO9m5cycbNmzgjTfeoGXLlri4uODi4oKrqyvl5eVm124OLy8vrl69ipOTEy1btsTBwQFvb+9mrwbMQXR0NJmZmeTk5Bgf27Nnj6oeGmLoP7Zt29YYFN2qVStVfw6CYIlYVWuld+/e7N+/nzlz5lBTU8PDDz+Mq6ur2XWa6z+OGjWK4OBg9Ho9YWFhiq9Em+o9du7cmcGDB+Po6Mjdd99NVFSUYvrN9R/j4uJU82Cq/xgQEMAzzzzDkCFDqKioYNGiRYrpC4I1YFWF3N7enri4OMV1LKH/2FzvbfLkyapmeTbXf1TDw0/1H7du3aq4viBYC1bVWhEEQRBuRQq5IAiClWNVrRVBMAeWMC9eq/R2S0iPFw/1nD592mzPJYVcsBl0Op3FzErXMr1da33xcBMHBwezzM2XQi7YDM7Ozuj1es1m5oP2c/MtYV68eKjHnHPzzV7ItY4Ys/XbNa09aK0PP3/LqtXMfNB+br4lzIsXD+bHbIXcEm5bLeFWSTxorw/mu2UVBGvAbIVc69tWrW9ZwTJu17T2oLU+aB/1JghqI1FvZsQSbte09qC1viDYIrKPXBAEwcqRQi4Iv5FFixbx/PPP89FHHwH1Q93effdd5s6dyxtvvMEPP/xgNq3Y2NhGISrPPfcc7dq1Y8KECY3+3euvv05oaCgREREUFRWZTb+oqAgvLy/Cw8MJDg42jsqYM2cOHTt2ZOjQoY3+/fr16xk8eDChoaFkZ2ebxUNeXh6RkZGEhYUREhLC8uXLVdVv+B4MHDiQ6Oho8vPzKS8vJzg4mFatWpGcnGz895WVlYwZM4awsDDGjBlDZWWlWXyYwuoK+fvvv09CQgLz5s3jzJkzimo1/eVZu3YtgwYN4oEHHuCLL75QVLu5X5xPPvnE6EHJVG4Dpn551PLQ3C9OXV0dL7zwAmFhYURFRXH27FnFPPwUkyZNYty4ccavc3NzqaqqYv78+QwePNhs82AMaVU+Pj7GHTkLFiwgNTW10b8rKCggLS2NjIwMXnvtNWbNmmUWfQOGscoHDhzg5MmT5ObmEhcXx5dfftno333//fckJSWxd+9ekpOTjSlGvwdDWtXSpUvZt28fmZmZ9OzZUzV9A4b3ICsri4kTJzJy5EicnJz4+OOPefHFFxv92/Xr1xMYGMi+ffsIDAxk/fr1ZvPRFKsq5EX/v717DWnyj+IA/s3l32aaZSu6qBVimNHFFCo09IVkZEIRBZXdjK4EFahBaQQZUZTRhUhKoiCKXhmClkh0kUmlWYkpXYessvvNTDHz/0Jmcz5bW/s9t/b9vCvHzmn5O9vZnp1jseDp06fIz8/H5s2bcebMGdliOR6et2/forCwEJWVlSgtLUVOTo4sI3TtSR2c7OxsVFRU4Nq1azh69Cg+f/4sW3xnh0fJHKQOzqVLl2AwGHDz5k3s3r1beMFy19ChQ3v9ub6+vudzgWnTpgm7/NK2rWrVqlU9T5xSFxRcv34dc+fOBQAkJibiwYMHQuI7st9YNXLkyD6r7G7fvo1Zs2bB398fY8eORUtLi9dXEDnbVqVUfCnp6ekYPnw4qqurMWLEiD4/v379OubNmwcASEtLw82bN4XnYKOrQv7q1aueD1JNJhPevHmDjo4OWWI5Hh6LxYKYmBj4+/sjODgYRqMRz549kyW2I9vBaWtrw7BhwxAcHAx/f39ERUXhzp07ssWVOjxTp05VNAd7toPT2NiI+Ph4AEB8fLyim1hcaWlp6dnhOnDgQGFvrVy4cAErV65EWloarl696vR2Hz9+7LV2T/QLDdtI4QkTJiA0NNTpPlDHPEJCQrzeYu9sW5VS8Z0JCwtz+r0Z+zwGDx6MDx8+yJIDoLNCHh4ejvr6evz8+RMWiwUfP37E9+/fZYnleHgiIyNRW1uLr1+/4uXLl6irq5Ptl8PG8eDEx8fj3bt3ePnyJb5+/Qqz2SxrDlKHx2QyKZqDo7CwMIwbNw5Xr15FV1cXrly5IusB8URQUFDP72Nra6uQxdxS26pqamokbxsaGtqrOzIYDF7Ht+e4saqgoMCtPL58+YLQ0FCvYkttq3JGjvjOWK1Wp5db2+chZw6ADgt5QkIC9uzZg9LSUkRERGDQoEHC40gdHovFgt27dyM9PR3btm3D1KlTMWrUKOGx7UkdnMLCQmRkZGDZsmWYPHmyrDlIHR4/Pz9Fc3BktVoRGRmJ6OhoJCcn49q1a7Iv+HBXTEwMamtrAXR/ryEmJsbr+5TaVuXsc4mkpCSUlZUBAMxmM6ZMmeJ1fGeGDBmCN2/eSP5s+vTpqKysREdHB5qamhAUFOT1Nf1S26oqKioUiy/FtrHK1h06SkpKQmlpKYDu71ckJSUJz8FGd7NW5syZgzlz5qCpqQnFxcV93h8TwXZ4bB+S3LhxA+fPn0dBQQEWLVqE169fIzMz02lrKQfbwUlOTkZycjK+ffuGBQsWYPr06bLFnDdvHnbs2IH79+/3vL1SUVGBlJQUxXKwZ39wEhISAADl5eXw9/dXJL6jkydP4vHjx+jo6MCzZ8+QlZWFmpoa7Nq1C0ajUcjyDWfbqgICAlBeXo7m5makpKTg8uXLmDBhAhITE5GQkID//vsPRUVFXse3J7Wx6vjx47h48SIaGhqQkpKCwsJCREZGYtOmTUhKSkK/fv1w5MgRr2M721bV2NioSHwbqY1VAQEBSE9PR319PQIDA1FZWYmTJ09i1apVyMzMxKxZsxAWFibrZ3q6K+T5+fno7OxEcHAw1qxZI0sMZ4fn3bt3sFqtCAwMxLFjx2SJbU/q4OTk5ODu3bvo378/9u3bJ+u3F50dnvLycsVykDo4ra2tSE1NhcFgwJgxYxT5v5CyYcOGPn/neDmgt1xtq9q3b1+f2+fl5ckyHsHTjVWZmZnIzMwUmoMn26rkiO9qY1VJSUmfvzMajX2uLJKL7gp5bm6u7DG0vOrtwIEDiubh7PAowdXB0coHnERaoKv3yImIqC8WciIinWMhJyLSORZyIiKdYyEnItI5rnoTSAtrztTOQe34gNjt5ER6wFVvzOGfiw+4XvWm1osNQP0XHFp4omUO3US+4OjX1dXVJeKO7t27h7i4OK5646o31R8D26q3mpqaXluKqqqqkJiYiF+/fqmSl42fn5+qOagdnzn8ZjAYcOvWLcycOdOr++GqN4G0sOZM7RzUju+K2ntlAfVfcGjhiZY5dBO5W1Z33+wk8pZaLzYA9V9waOGJljmIx6tWiIh0TrOFnPsQfWcfopZ3IRLpgWYLOfch+tY+RK3uQiTSA80Wcu5D9N19iFraheiKY9fY3NyM7du3Y/ny5T2XGYriTtforIMRwdOuMTU1FSaTCfn5+cJy8KRrlCO+p52j2WzGpEmTMGDAAFitVmF5SNFsIXfEfYjSefyr+xC1sgvRFceucciQIcjLy8OMGTOExnG3azQajZIdjCjudo0AUFRUhIMHDwqL7UnXKEd8G086x4kTJ6Kqqkr474MU3RRy7kOUzuNf3YeolV2Irjh2jQEBAQgKChIex92usX///pIdjGh/6hqB7idikTzpGuWIL+VPnWNISIgsvw9SdFPIuQ+xmy/sQ9TSLkQtcLdrlJu7XaMcPOkaleSqc1SSZq8j5z5E39qHqNVdiGqz7xoB9HSNcXFxiucSFxfX8wS/ZcsWFBQUIDs7W5HY4eHhePjwoSKxPOGqc1SSZgs59yH6zj5ELe9CVJuzReBqFHJ7rrpGObhaBK6WP3WOStJsISfSOseucfPmzTh06BCsViusVitiY2OxePFir2J40jUOHDhQsoMRxZOuce3atTCbzWhvb0d1dTWKi4u9iu1p1yg6vuNj4E7n+PjxY2zatAkPHjzAkiVLsHTpUmzcuFFIHo5YyIn+klTXKLpj87RrlOpgRPC0azx16pTwHDzpGuWI72nnOH78eKefNYmmmw87iYhIGgs5EZHOsZATEekcV70JpIWtI2rnoHZ8gKveyPdw1Rtz+OfiA65XvRH9a4QVcrW3r6i9eQXQxtYRtXNQOz4gdvMKkR5w1ZtAWtg6onYOascn8kW8jpx8jpqzMd6+fQsAqn9+oFZ85vCbyNiaLeR79+7F8+fPMXfuXCxcuBDNzc04fPgwXr16hZ07dyI6OlpYrHXr1uHRo0eorKwE0P0V9LKyMqSlpeH06dMAumc9z549Gw0NDTh+/DgyMjKExbdYLIiNjcWUKVPQ3t6O2NhYnDhxAnl5eTh37hyioqJ6fbEgNTUVNTU12Lp1K3Jzc4Xk8PDhQ2RlZaGtrQ2dnZ1YuHAhPn36pEh8+39/a2srhg8fjgMHDiA8PFzyMTebzVi/fj2ePHmCp0+fuj3pzmQywWg04tixY17n7A0/Pz+hvz+eMhgMqsZnDr8FBgbCZDJ5fT+aLeQbNmxAXV1dz6xp26zns2fPCo1jm/UcFhaGFy9eYNy4cdizZw9WrFjRa0i8bdazyK8827MfSJSamtoz63n16tVYt25dr9sWFRWhoqJC2LB626zn4uLinjkW5eXlmDRpkiLxgd7//pKSEsyfPx91dXWSj7ltzrNtuYS7IiIi0NjYiPfv3wvL+2+0t7er+v692vGZw28mk0nIFEnNFnKpWc9yPOi2Wc+TJ0/G+fPnkZubi9GjR+PJkye9bqfWrGep3aBKzXoGoEh8R+np6di/fz+qq6uRkJDQ5+chISF/fd8RERGKjl8lUoLPfyGIs561OetZK3OeifTApwu5JxuC5ObuhiA5eLIhSClamfNMpAc+Xcg92RCkJDVmPbu7IUgJWprzTKQHmn2PnLOefWvWs1bnPBPpgWYLOWc9+86sZy3PeSbSA59+a4WI6F/AQk5EpHMs5EREOsdCTkSkcyzkREQ6J/yqFbW+jaf2VDlAGxPV1M5B7fhqxyZSQ7+urq4uEXfU1NSE6Oho/PjxQ8Td/RU/Pz/8+vVLtfhA90S1zs5On85B7fhA91S5hoYGzlUhnyCskAPdxVzNyXJamGbGHNSPD4ibKkekB0ILORERKY8fdhIR6RwLORGRzrGQExHpHAs5EZHOsZATEekcCzkRkc6xkBMR6RwLORGRzrGQExHpHAs5EZHOsZATEekcCzkRkc6xkBMR6RwLORGRzrGQExHpHAs5EZHO/Q/nEdh5NylaZAAAAABJRU5ErkJggg==)\n",
        "\n",
        "\n",
        "pd.concat([df1,df2],axis=1)\n",
        "![merging_concat_axis1.png](data:image/png;base64,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)"
      ]
    },
    {
      "cell_type": "code",
      "metadata": {
        "id": "r3UmYDfDwzPN",
        "colab_type": "code",
        "colab": {}
      },
      "source": [
        "#exemplo concatenacao cg e ms - vertical\n",
        "\n",
        "cgConcatVertical = pd.concat([cg,ms])\n",
        "print(cgConcatVertical)\n",
        "\n",
        "#exemplo concatenacao cg e ms - horizontal - eixo1 \n",
        "\n",
        "cgConcatHorizontal = pd.concat([cg,ms], axis = 1)\n",
        "print(cgConcatHorizontal)\n",
        "\n"
      ],
      "execution_count": null,
      "outputs": []
    },
    {
      "cell_type": "markdown",
      "metadata": {
        "id": "wRZpLxdlwyQY",
        "colab_type": "text"
      },
      "source": [
        "Outras funcões\n",
        "\n",
        "\n",
        "\n",
        "* drop_duplicates\n",
        "* dropna\n",
        "* sample(frac=VALOR)\n",
        "\n",
        "... ver documentação e cheat-sheet\n",
        "* https://studylib.net/doc/25268801/pandas-cheat-sheet\n",
        "\n",
        "\n"
      ]
    },
    {
      "cell_type": "code",
      "metadata": {
        "id": "FFO0Uw5wy8n5",
        "colab_type": "code",
        "colab": {}
      },
      "source": [
        "#dica - imprimir os nomes das colunas\n",
        "print(cgConcatHorizontal.dropna())\n",
        "\n",
        "print(cg.sample(frac = 0.5))"
      ],
      "execution_count": null,
      "outputs": []
    },
    {
      "cell_type": "markdown",
      "metadata": {
        "id": "uvBuGpZOx3Gy",
        "colab_type": "text"
      },
      "source": [
        "# Índice:\n",
        "\n",
        "* chave primária do dado\n",
        "\n",
        "Dependendo da tarefa, mudar o indice faz sentido. \n",
        "* no caso do COVID, como estamos usando análise temporal, utilizaremos a data como chave principal\n",
        "* função set_index - para mudar o índice"
      ]
    },
    {
      "cell_type": "code",
      "metadata": {
        "id": "ZYo5rH3fynVs",
        "colab_type": "code",
        "colab": {
          "base_uri": "https://localhost:8080/",
          "height": 612
        },
        "outputId": "1ca96e04-c02c-47f2-a2ba-eb840c07c408"
      },
      "source": [
        "#mudar o indice da tabela cg e ms para a data\n",
        "print(cg)\n",
        "\n",
        "cg = cg.set_index('date')\n",
        "\n",
        "print(cg)\n",
        "#acesso a coluna de data muda\n",
        "\n",
        "cg.index"
      ],
      "execution_count": 47,
      "outputs": [
        {
          "output_type": "stream",
          "text": [
            "           date  confirmed  deaths\n",
            "0    2020-03-14          2       0\n",
            "1    2020-03-15          2       0\n",
            "2    2020-03-16          4       0\n",
            "3    2020-03-17          6       0\n",
            "4    2020-03-18          7       0\n",
            "..          ...        ...     ...\n",
            "151  2020-09-01      22053     372\n",
            "152  2020-09-03      22688     385\n",
            "153  2020-09-04      23030     390\n",
            "154  2020-09-05      22980     396\n",
            "155  2020-09-07      23457     405\n",
            "\n",
            "[156 rows x 3 columns]\n",
            "            confirmed  deaths\n",
            "date                         \n",
            "2020-03-14          2       0\n",
            "2020-03-15          2       0\n",
            "2020-03-16          4       0\n",
            "2020-03-17          6       0\n",
            "2020-03-18          7       0\n",
            "...               ...     ...\n",
            "2020-09-01      22053     372\n",
            "2020-09-03      22688     385\n",
            "2020-09-04      23030     390\n",
            "2020-09-05      22980     396\n",
            "2020-09-07      23457     405\n",
            "\n",
            "[156 rows x 2 columns]\n"
          ],
          "name": "stdout"
        },
        {
          "output_type": "execute_result",
          "data": {
            "text/plain": [
              "Index(['2020-03-14', '2020-03-15', '2020-03-16', '2020-03-17', '2020-03-18',\n",
              "       '2020-03-19', '2020-03-20', '2020-03-21', '2020-03-22', '2020-03-23',\n",
              "       ...\n",
              "       '2020-08-24', '2020-08-27', '2020-08-28', '2020-08-30', '2020-08-31',\n",
              "       '2020-09-01', '2020-09-03', '2020-09-04', '2020-09-05', '2020-09-07'],\n",
              "      dtype='object', name='date', length=156)"
            ]
          },
          "metadata": {
            "tags": []
          },
          "execution_count": 47
        }
      ]
    },
    {
      "cell_type": "code",
      "metadata": {
        "id": "UhMwPMVUNeiB",
        "colab_type": "code",
        "colab": {}
      },
      "source": [
        "ms = ms.set_index('date')\n",
        "\n",
        "print(ms)\n",
        "\n",
        "ms.index"
      ],
      "execution_count": null,
      "outputs": []
    },
    {
      "cell_type": "code",
      "metadata": {
        "id": "Mh86ScNJisBZ",
        "colab_type": "code",
        "colab": {}
      },
      "source": [
        "crb = crb.set_index('date')\n",
        "\n",
        "print(crb)\n",
        "\n",
        "crb.index"
      ],
      "execution_count": null,
      "outputs": []
    },
    {
      "cell_type": "code",
      "metadata": {
        "id": "PdxkxX4pk4aF",
        "colab_type": "code",
        "colab": {}
      },
      "source": [
        "crb2 = crb.sort_values(['date'])"
      ],
      "execution_count": null,
      "outputs": []
    },
    {
      "cell_type": "markdown",
      "metadata": {
        "id": "MHehRftNzJGZ",
        "colab_type": "text"
      },
      "source": [
        "# Algumas das análises importantes para o enfrentamento da pandemia:\n",
        "* casos totais\n",
        "* mortes totais\n",
        "* casos diários \n",
        "* óbitos diários\n",
        "* média móvel\n",
        "\n",
        "# Temos:\n",
        "* casos totais\n",
        "* mortes totais\n",
        "\n",
        "\n",
        "Então mãos a obra!"
      ]
    },
    {
      "cell_type": "code",
      "metadata": {
        "id": "2E8hPBOizkqS",
        "colab_type": "code",
        "colab": {}
      },
      "source": [
        "#funcao para gerar os dados não acumulados a partir de uma lista acumulada\n",
        "#funções são importantes para não repetir código e melhorar a leitura\n",
        "print(cg)\n",
        "\n",
        "import numpy as np\n",
        "\n",
        "def reverseCumSum(x):\n",
        "  return list(np.array(x) - np.array([0]+x[:-1]))"
      ],
      "execution_count": null,
      "outputs": []
    },
    {
      "cell_type": "markdown",
      "metadata": {
        "id": "dnsWQwBUz9f5",
        "colab_type": "text"
      },
      "source": [
        "\n",
        "# Criar novas colunas\n",
        "**df[** NOME DA NOVA COLUNA **] =** DADOS DA NOVA COLUNA\n",
        "\n"
      ]
    },
    {
      "cell_type": "code",
      "metadata": {
        "id": "ISjw-n0N0TFX",
        "colab_type": "code",
        "colab": {}
      },
      "source": [
        "#criar coluna nova de novos casos e novos óbitos para campo grande\n",
        "\n",
        "cg['new_confirmed'] = reverseCumSum(list(cg['confirmed']))\n",
        "cg['new_deaths'] = reverseCumSum(list(cg['deaths']))\n",
        "\n",
        "ms['new_confirmed'] = reverseCumSum(list(ms['confirmed']))\n",
        "ms['new_deaths'] = reverseCumSum(list(ms['deaths']))\n",
        "\n",
        "print(cg)\n",
        "print(ms)\n",
        "\n",
        "#mostrar coluna nova de novos casos e óbitos para campo grande\n",
        "\n",
        "\n",
        "#criar coluna nova de novos casos e novos óbitos para MS\n",
        "\n",
        "\n",
        "#mostrar coluna nova de novos casos e óbitos para MS"
      ],
      "execution_count": null,
      "outputs": []
    },
    {
      "cell_type": "markdown",
      "metadata": {
        "id": "iYdNteEq0j-5",
        "colab_type": "text"
      },
      "source": [
        "# Visualizar algumas informações estatísticas básicas para análise exploratória\n",
        "\n",
        "df**.describe()**\n"
      ]
    },
    {
      "cell_type": "code",
      "metadata": {
        "id": "EK5ZtTIZ02EN",
        "colab_type": "code",
        "colab": {}
      },
      "source": [
        "#visualizar describe para campo Grande\n",
        "print(cg.describe())\n",
        "#visualizar describe para o MS\n",
        "print(ms.describe())\n",
        "\n",
        "print(crb.describe())\n"
      ],
      "execution_count": null,
      "outputs": []
    },
    {
      "cell_type": "markdown",
      "metadata": {
        "id": "aDpHwuIb1CCz",
        "colab_type": "text"
      },
      "source": [
        "# Problema em analisar apenas os dados diários do COVID: \n",
        "* dados atrasados\n",
        "* laboratórios fechados nos finais de semana \n",
        "* consequências: picos e vales nos dados\n",
        "\n",
        "Saída:\n",
        "* calcular a média móvel para os últimos 7 dias"
      ]
    },
    {
      "cell_type": "code",
      "metadata": {
        "id": "REcZ13tH1Lwn",
        "colab_type": "code",
        "colab": {}
      },
      "source": [
        "#pq usar casos diários\n",
        "import numpy as np\n",
        "def mediaMovel(x):\n",
        "  mediaMovel = []\n",
        "  for i in range(len(x)):\n",
        "    tamanho = max(i-7,0)\n",
        "    if(tamanho >0):\n",
        "      mediaMovel.append(np.mean(x[i-tamanho:i]))\n",
        "    else:\n",
        "      mediaMovel.append(x[i])\n",
        "  return mediaMovel"
      ],
      "execution_count": 66,
      "outputs": []
    },
    {
      "cell_type": "markdown",
      "metadata": {
        "id": "fQCborND2Bch",
        "colab_type": "text"
      },
      "source": [
        "# Então agora temos todas as análises para a aula de hoje, vamos mostrar:\n",
        "*  biblioteca matplotlib\n",
        "- funcao plot(COLUNA DATA FRAME) - scatter plot\n",
        "- funcao bar(COLUNA DATAFRAME)\n",
        "** funcao ylabel(TEXTO EIXO Y) \n",
        "** funcao xlabel(TEXTO EIXO X)\n",
        "** funcao title(TITULO)\n",
        "** funcao legend([GRAFICO1NOME,...,GRAFICONNOME])\n",
        "** funcao savefig(NOME DO ARQUIVO+FORMATO) - salva figura\n",
        "** funcao show() - mostra a figura"
      ]
    },
    {
      "cell_type": "code",
      "metadata": {
        "id": "H4ADL_DJ1Imj",
        "colab_type": "code",
        "colab": {}
      },
      "source": [
        "#importar matplotlib.pyplot\n",
        "\n",
        "import matplotlib.pyplot as plt\n",
        "\n",
        "#quando a gente seleciona a coluna, o indice vem junto e pode ser utilizado na funcao plot\n",
        "\n",
        "#definir funcao para plotar dados totais - VAMOS UTILIZAR 4 VEZES\n",
        "\n",
        "def totalPlot(theTitle,theData,ylabel):\n",
        "  plt.plot(theData)\n",
        "  plt.xlabel('linha do tempo')\n",
        "  plt.ylabel(ylabel)\n",
        "  plt.title(theTitle)\n",
        "  plt.savefig(theTitle.replace(' ', '') + '.png')\n",
        "  plt.show()\n",
        "\n",
        "  "
      ],
      "execution_count": 67,
      "outputs": []
    },
    {
      "cell_type": "code",
      "metadata": {
        "id": "u9e_SYLl1JE7",
        "colab_type": "code",
        "colab": {}
      },
      "source": [
        "#chamar funcao totalPlot com\n",
        "\n",
        "totalPlot('Casos Totais em Campo Grande',cg['confirmed'],'casos')\n",
        "totalPlot('Óbitos Totais em Campo Grande',cg['deaths'],'óbitos')\n",
        "totalPlot('Casos Totais em Mato Grosso do Sul',ms['confirmed'],'casos')\n",
        "totalPlot('Óbitos Totais em Mato Grosso do Sul',ms['deaths'],'óbitos')\n",
        "\n",
        "#casos totais em campo grande\n",
        "\n",
        "#óbitos totais em campo grande\n",
        "\n",
        "#casos totais no MS\n",
        "\n",
        "#óbitos totais no MS\n"
      ],
      "execution_count": null,
      "outputs": []
    },
    {
      "cell_type": "markdown",
      "metadata": {
        "id": "GD3zZ4pO3lgb",
        "colab_type": "text"
      },
      "source": [
        "# Alguns pontos importantes:\n",
        "\n",
        "** casos totais e óbitos totais tem reflexo real no nosso mundo físico. \n",
        "\n",
        "** como apenas 20% dos casos são hospitalizados, colocar óbitos e casos no mesmo gráfico pode dar a impressão que poucas pessoas morreram: mas são mais de 100mil pessoas\n",
        "\n"
      ]
    },
    {
      "cell_type": "code",
      "metadata": {
        "id": "8jP-Q_VL1PDj",
        "colab_type": "code",
        "colab": {}
      },
      "source": [
        "#AGORA VAMOS VISUALIZAR OS DADOS DIARIOS JUNTO COM AS MÉDIAS MÓVEIS \n",
        "# # A MÉDIA MÓVEL SERVE PARA SUAVIZAR OS PICOS DOS CASOS DIÁRIOS\n",
        "\n",
        "def dailyPlot(theTitle,theData,ylabel):\n",
        "  mediaMovelData = mediaMovel(list(theData))\n",
        "  plt.bar(list(range(len(theData))), list(theData))\n",
        "  plt.plot(list(mediaMovelData), 'r')\n",
        "  plt.plot('linha do tempo')\n",
        "  plt.ylabel(ylabel)\n",
        "  plt.title(theTitle)\n",
        "  plt.savefig(theTitle.replace(' ', '') + '.png')\n",
        "  plt.show()\n",
        "\n",
        "  "
      ],
      "execution_count": 83,
      "outputs": []
    },
    {
      "cell_type": "markdown",
      "metadata": {
        "id": "QZbMLuIngmog",
        "colab_type": "text"
      },
      "source": [
        ""
      ]
    },
    {
      "cell_type": "code",
      "metadata": {
        "id": "6Zj3H7Ej1UPE",
        "colab_type": "code",
        "colab": {}
      },
      "source": [
        "#chamar funcao totalPlot com\n",
        "dailyPlot('Casos Diários em Campo Grande',cg['new_confirmed'],'casos')\n",
        "dailyPlot('Óbitos Diários em Campo Grande',cg['new_deaths'],'óbitos')\n",
        "\n",
        "dailyPlot('Casos Diários em Mato Grosso do Sul',ms['new_confirmed'],'casos')\n",
        "dailyPlot('Óbitos Diários em Mato Grosso do Sul',ms['new_deaths'],'óbitos')\n",
        "\n",
        "#casos diários em campo grande\n",
        "\n",
        "#óbitos diários em campo grande\n",
        "\n",
        "#casos diários no MS\n",
        "\n",
        "#óbitos diários no MS"
      ],
      "execution_count": null,
      "outputs": []
    },
    {
      "cell_type": "code",
      "metadata": {
        "id": "f6v4d-cpjHFf",
        "colab_type": "code",
        "colab": {
          "base_uri": "https://localhost:8080/",
          "height": 573
        },
        "outputId": "40fd6aec-3712-40e9-9fc5-888af2719148"
      },
      "source": [
        "#cassos e obitos em corumbá ms\n",
        "\n",
        "totalPlot('Casos Totais em Corumbá',crb2['confirmed'],'casos')\n",
        "totalPlot('Óbitos Totais em Corumbá',crb2['deaths'],'óbitos')\n"
      ],
      "execution_count": 105,
      "outputs": [
        {
          "output_type": "display_data",
          "data": {
            "image/png": "[encoded data removed]",
            "text/plain": [
              "<Figure size 432x288 with 1 Axes>"
            ]
          },
          "metadata": {
            "tags": [],
            "needs_background": "light"
          }
        },
        {
          "output_type": "display_data",
          "data": {
            "image/png": "[encoded data removed]",
            "text/plain": [
              "<Figure size 432x288 with 1 Axes>"
            ]
          },
          "metadata": {
            "tags": [],
            "needs_background": "light"
          }
        }
      ]
    },
    {
      "cell_type": "markdown",
      "metadata": {
        "id": "_WKp_LJA5IzS",
        "colab_type": "text"
      },
      "source": [
        "# **NEXT: **\n",
        "\n",
        "cadastro Plotly: https://chart-studio.plotly.com/organize/home\n",
        "\n",
        "\n"
      ]
    }
  ]
}